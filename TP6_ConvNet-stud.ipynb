{
 "cells": [
  {
   "cell_type": "markdown",
   "metadata": {},
   "source": [
    "# Convolutional Neural Networks (CNN) and Deep Architectures\n",
    "\n",
    "In these practicals, we will create a first convolutional neural network (CNN). This type of networks mostly rely on alternating layers of convolution and pooling. A convolution layer is a signal processing inspired layer that performs a bunch of convolutions on the layer input and yields filtered outputs known as feature maps. A pooling layer is a sort of subsampling layer. Most of the time, after several Conv/Pool layer pairs, a usual MLP is plugged to obtain class membership probabilities. When the number of layers is rather high (unclear how high this is), we obtain a deep network.\n",
    "\n",
    "We will use `TensorFlow` as programming framework and build a CNN to solve an image classification task.\n",
    "\n",
    "## Starting with TensorFlow\n",
    "\n",
    "`TensorFlow` is Google's library designed to create and train deep nets. It relies on symbolic programming and on the notion of computation graph. Here is an example of such a graph:\n",
    "\n",
    "<img src=\"graph.png\" alt=\"drawing\" width=\"200\"/>\n",
    "\n",
    "In this graph, we prepare `TensorFlow` to later compute the following function :\n",
    "\n",
    "$$f\\left( x,y\\right) = x^2 + 2y,$$\n",
    "\n",
    "for some $x$ and $y$. In this graph, the variables $x$ and $y$ are instances of the `tf.placeholder` class. Given these two objects, programming function $f$ is quite easy. We just need one line of code to explain `TensorFlow` how to compute $f\\left( x,y\\right)$ given $x$ and $y$:\n",
    "\n",
    "```python\n",
    "f = x*x + 2*y\n",
    "```\n",
    "\n",
    "This is done in a symbolic way meaning that $+$ here is not the usual Python + but `TensorFlow`'s addition operator. \n",
    "\n",
    "There are consequently two programming phases when using `TensorFlow`:\n",
    "* graph building and variable declaration,\n",
    "* actual computation performed as part of a `session`.\n",
    "\n",
    "Here is the full code to build the graph for function $f$ followed by a `session` to compute function values for some $(x,y)$ pairs."
   ]
  },
  {
   "cell_type": "markdown",
   "metadata": {},
   "source": [
    "# Import"
   ]
  },
  {
   "cell_type": "code",
   "execution_count": 1,
   "metadata": {},
   "outputs": [],
   "source": [
    "import numpy as np\n",
    "import matplotlib.pyplot as plt"
   ]
  },
  {
   "cell_type": "code",
   "execution_count": 2,
   "metadata": {},
   "outputs": [
    {
     "name": "stderr",
     "output_type": "stream",
     "text": [
      "/home/cindy/anaconda3/lib/python3.6/site-packages/h5py/__init__.py:36: FutureWarning: Conversion of the second argument of issubdtype from `float` to `np.floating` is deprecated. In future, it will be treated as `np.float64 == np.dtype(float).type`.\n",
      "  from ._conv import register_converters as _register_converters\n"
     ]
    }
   ],
   "source": [
    "import tensorflow as tf"
   ]
  },
  {
   "cell_type": "code",
   "execution_count": 3,
   "metadata": {},
   "outputs": [],
   "source": [
    "import numpy as np\n",
    "import sys\n",
    "from matplotlib.pyplot import imshow\n",
    "import gzip\n",
    "import _pickle as cPickle\n"
   ]
  },
  {
   "cell_type": "markdown",
   "metadata": {},
   "source": [
    "# Preliminary questions"
   ]
  },
  {
   "cell_type": "code",
   "execution_count": 4,
   "metadata": {},
   "outputs": [
    {
     "name": "stdout",
     "output_type": "stream",
     "text": [
      "5.0\n",
      "10.0\n",
      "17.0\n"
     ]
    }
   ],
   "source": [
    "x = tf.placeholder(tf.float32,shape=[])\n",
    "y = tf.placeholder(tf.float32,shape=[])\n",
    "f = x*x + 2*y\n",
    "some_x = [1,2,3]\n",
    "some_y = [2,3,4]\n",
    "with tf.Session() as sess:\n",
    "    for i in range(len(some_x)):\n",
    "        print(sess.run(f,feed_dict={x: some_x[i],y: some_y[i]}))"
   ]
  },
  {
   "cell_type": "markdown",
   "metadata": {},
   "source": [
    "The `tf.placeholder` class is meant to define variables that will be later replaced with data streams. Here, we specified that these data are `float32` and that they are scalars (`shape=[]`). In the `session`, we explain `TensorFlow` that the `x` and `y` will now be replaced by some specific values which we defined before as integer lists. \n",
    "\n",
    "### Q1\n",
    "* Define in a symbolic way the gradient of function $f$ (see `TensorFlow.gradients` documentation) and compute the gradient vectors for the same $(x,y)$ pairs as in the above code. \n"
   ]
  },
  {
   "cell_type": "code",
   "execution_count": 5,
   "metadata": {},
   "outputs": [
    {
     "name": "stdout",
     "output_type": "stream",
     "text": [
      "[2.0, 2.0]\n",
      "[4.0, 2.0]\n",
      "[6.0, 2.0]\n"
     ]
    }
   ],
   "source": [
    "gradf_x_y = tf.gradients(ys= x*x+2*y, xs = [x,y])\n",
    "\n",
    "with tf.Session() as sess:\n",
    "    for i in range(len(some_x)):\n",
    "        print(sess.run(gradf_x_y, feed_dict={x:some_x[i],y:some_y[i]}))\n"
   ]
  },
  {
   "cell_type": "code",
   "execution_count": 6,
   "metadata": {},
   "outputs": [
    {
     "data": {
      "text/plain": [
       "<tf.Tensor 'gradients_1/Fill:0' shape=() dtype=float32>"
      ]
     },
     "execution_count": 6,
     "metadata": {},
     "output_type": "execute_result"
    }
   ],
   "source": [
    "a = tf.constant(0.)\n",
    "b = 2 * a\n",
    "g = tf.gradients(a + b, [a, b], stop_gradients=[a, b])\n",
    "g[0]"
   ]
  },
  {
   "cell_type": "markdown",
   "metadata": {},
   "source": [
    "# CNN "
   ]
  },
  {
   "cell_type": "markdown",
   "metadata": {},
   "source": [
    "---\n",
    "\n",
    "## Baseline CNN\n",
    "\n",
    "We are now almost ready to start building a `TensorFlow` graph containing convolution or pooling layers instead of the basic operations involved in function $f$. Unlike function $f$, the classification function that we are trying to learn is parametric. Parameters can be explicitely defined as `TensorFlow` variables which are instances of the `tf.Variable` class. Since the backpropagation cannot work if parameters are not intialized, we will be using an initializer provided by `TensorFlow`. However, we will not explicitely define parameters but instead use `TensorFlow` macroscopic layerwise functions which encompass `TensorFlow` variables. This makes the code much simpler but less modular.\n",
    "\n",
    "But first things first ! We need a dataset to work with and to load in Jupyter. We will be working with the `MNIST` dataset. This dataset contains 28x28 grayscale images of handwritten figures. It has the advantage to be larger than traditional datasets utilized in practicals while it can still hold in memory and converge in a few minutes. Larger or more complicated datasets (more variability in images) would require too many computational efforts.\n",
    "\n",
    "Download the `MNIST` archive at [mnist.pkl.gz](http://deeplearning.net/data/mnist/mnist.pkl.gz). Load the dataset using the `load_mnist` function. You need to feed it with the path to the `MNIST` archive."
   ]
  },
  {
   "cell_type": "markdown",
   "metadata": {},
   "source": [
    "## Load and preprocess data"
   ]
  },
  {
   "cell_type": "code",
   "execution_count": 7,
   "metadata": {},
   "outputs": [
    {
     "name": "stdout",
     "output_type": "stream",
     "text": [
      "(60000, 784)\n",
      "(60000,)\n",
      "(10000, 784)\n",
      "(10000,)\n"
     ]
    }
   ],
   "source": [
    "# Load data\n",
    "def load_mnist(filename):\n",
    "    f = gzip.open(filename, 'rb')\n",
    "    train_set, valid_set, test_set = cPickle.load(f, encoding='iso-8859-1')\n",
    "    f.close()\n",
    "    X = np.vstack((train_set[0],valid_set[0]))\n",
    "    y = np.hstack((train_set[1],valid_set[1]))\n",
    "    X_test = test_set[0]\n",
    "    y_test = test_set[1]\n",
    "    return X,y,X_test,y_test\n",
    "\n",
    "# MISSING CODE\n",
    "X,y,X_test,y_test = load_mnist( 'mnist.pkl.gz')\n",
    "#\n",
    "N_train = X.shape[0]\n",
    "N_test = X_test.shape[0]\n",
    "\n",
    "print(X.shape)\n",
    "print(y.shape)\n",
    "print(X_test.shape)\n",
    "print(y_test.shape)"
   ]
  },
  {
   "cell_type": "code",
   "execution_count": 8,
   "metadata": {},
   "outputs": [
    {
     "data": {
      "image/png": "[encoded data removed]",
      "text/plain": [
       "<Figure size 1440x288 with 10 Axes>"
      ]
     },
     "metadata": {},
     "output_type": "display_data"
    }
   ],
   "source": [
    "#show some images\n",
    "plt.subplots(figsize = (20,4))\n",
    "n_ex = 5\n",
    "for i in range (n_ex):\n",
    "    plt.subplot(2,n_ex,i+1)\n",
    "    plt.imshow(X[i].reshape((28,28,)))\n",
    "    plt.title(\"Train:\"+str(y[i]))\n",
    "    \n",
    "    plt.subplot(2,n_ex,n_ex+i+1)\n",
    "    plt.imshow(X_test[i].reshape((28,28,)))\n",
    "    plt.title(\"Test:\"+str(y_test[i]))\n",
    "plt.tight_layout()"
   ]
  },
  {
   "cell_type": "code",
   "execution_count": 9,
   "metadata": {},
   "outputs": [],
   "source": [
    "#MISSING CODE\n",
    "#Reshape \n",
    "X = X.reshape((N_train,28,28,1))\n",
    "X_test = X_test.reshape(N_test,28,28,1)\n"
   ]
  },
  {
   "cell_type": "code",
   "execution_count": 10,
   "metadata": {},
   "outputs": [
    {
     "name": "stderr",
     "output_type": "stream",
     "text": [
      "/home/cindy/anaconda3/lib/python3.6/site-packages/ipykernel_launcher.py:10: RuntimeWarning: divide by zero encountered in true_divide\n",
      "  # Remove the CWD from sys.path while we load stuff.\n",
      "/home/cindy/anaconda3/lib/python3.6/site-packages/ipykernel_launcher.py:10: RuntimeWarning: invalid value encountered in true_divide\n",
      "  # Remove the CWD from sys.path while we load stuff.\n"
     ]
    }
   ],
   "source": [
    "def normalize (x_train,x_norm):\n",
    "    \"\"\" \n",
    "    Function to normalize the data\n",
    "    params:\n",
    "    - x_train : to compute the mean and standard deviation\n",
    "    - x_norm : the data to be normalized\n",
    "    return :\n",
    "    - x_norm : the data normalized  \n",
    "    \"\"\"\n",
    "    x_norm = (x_norm - x_train.mean(axis=0))/x_train.std(axis=0)\n",
    "    return x_norm\n",
    "\n",
    "X_train_norm = normalize(X,X)\n",
    "X_test_norm = normalize(X,X_test)"
   ]
  },
  {
   "cell_type": "markdown",
   "metadata": {},
   "source": [
    "### Q2\n",
    "* Reshape `X` and `X_test` so that they have shape (60000,28,28,1) and (10000,28,28,1) respectively.\n"
   ]
  },
  {
   "cell_type": "markdown",
   "metadata": {},
   "source": [
    "We can now begin to build the CNN. At the start of the `TensorFlow` graph we need to define data containers, i.e. instances of `tf.placeholder`. We will use mini-batch gradient descent to optimize the NN parameters and we want the code to be modular so we cannot specify the first dimension of the tensor containing training examples. `TensorFlow` allows this :"
   ]
  },
  {
   "cell_type": "code",
   "execution_count": 9,
   "metadata": {},
   "outputs": [],
   "source": [
    "Xtf = tf.placeholder(tf.float32,shape=[None, X.shape[1], X.shape[2],1])\n",
    "ytf = tf.placeholder(tf.int64,shape=[None, ])"
   ]
  },
  {
   "cell_type": "markdown",
   "metadata": {},
   "source": [
    "The next element of our NN is a 2D convolutional layer. We can use an instance of the `tf.layers.conv2d` class. We need to specify that a `tf.placeholder` instance is the input, the number of size of filters (kernels) that we want, how to deal with image borders (padding) and what activation we would like. This gives:"
   ]
  },
  {
   "cell_type": "code",
   "execution_count": 10,
   "metadata": {},
   "outputs": [],
   "source": [
    "# Convolutional Layer #1\n",
    "conv1 = tf.layers.conv2d(\n",
    "      inputs=Xtf,\n",
    "      filters=64,\n",
    "      kernel_size=[5, 5],\n",
    "      padding=\"same\",\n",
    "      activation=tf.nn.relu)"
   ]
  },
  {
   "cell_type": "markdown",
   "metadata": {},
   "source": [
    "Next, we need a pooling layer to give up some entries of the filtered images provided by the convolutional layer. We will use the usual max pool function in 2x2 neighborhoods which drops 3 entries out of 4 in each such neighborhood. The remaining entry is the one achieving maximal value in the neighborhood."
   ]
  },
  {
   "cell_type": "code",
   "execution_count": 11,
   "metadata": {},
   "outputs": [],
   "source": [
    "# Pooling Layer #1\n",
    "pool1 = tf.layers.max_pooling2d(inputs=conv1, pool_size=[2, 2], strides=2)\n"
   ]
  },
  {
   "cell_type": "markdown",
   "metadata": {
    "heading_collapsed": true
   },
   "source": [
    "## Q3\n",
    "* What is the role of parameter `strides` ? \n",
    "* What is the size of each feature map after max pooling ?\n",
    "* How many feature maps are there ?\n",
    "\n",
    "We will now plug a 1 layer MLP on top of this. Fully connected layers (or dense layers) do not accept `numpy ndarrays`. We can use `tf.reshape` to flatten feature maps. In the following code the scalar `dflat` = nbr of feature maps x feature map width x feature map height. Set this variable with the correct value and execute the following code line: "
   ]
  },
  {
   "cell_type": "markdown",
   "metadata": {
    "hidden": true
   },
   "source": [
    "- stride : is the number of step we take to slide the filter\n",
    "- The output of the conv2d layer is size (28,28), as the padding is \"same\" and the stride is 1. After maxpooling of stride 2, we divide the number of pixels by 4. So the size of each feature map after max pooling is (14,14)\n",
    "- There are 64 filters so 64 feature maps."
   ]
  },
  {
   "cell_type": "code",
   "execution_count": 12,
   "metadata": {
    "hidden": true
   },
   "outputs": [],
   "source": [
    "dflat = 64*14*14# MISSING CODE\n",
    "pool2_flat = tf.reshape(pool1, [-1, dflat])\n",
    "#pool2_flat = tf.layers.Flatten()(pool1)"
   ]
  },
  {
   "cell_type": "markdown",
   "metadata": {
    "hidden": true
   },
   "source": [
    "Now the one layer MLP is given by an instance of `tf.layers.dense` as:"
   ]
  },
  {
   "cell_type": "code",
   "execution_count": 13,
   "metadata": {
    "hidden": true
   },
   "outputs": [],
   "source": [
    "mlp = tf.layers.dense(inputs=pool2_flat, units=1024, activation=tf.nn.relu)\n"
   ]
  },
  {
   "cell_type": "markdown",
   "metadata": {
    "hidden": true
   },
   "source": [
    "Finally, we need a softmax regression function to obtain class membership probabilities. This can be done in this way:"
   ]
  },
  {
   "cell_type": "code",
   "execution_count": 14,
   "metadata": {
    "hidden": true
   },
   "outputs": [],
   "source": [
    "logits = tf.layers.dense(inputs=mlp, units=10)\n",
    "smax = tf.nn.softmax(logits)"
   ]
  },
  {
   "cell_type": "markdown",
   "metadata": {
    "hidden": true
   },
   "source": [
    "### Q4\n",
    "* How many parameters is there in our NN ?\n",
    "\n",
    "Actually, the utimate element of the `TensorFlow` graph is the loss. In softmax (or logistic) regression, the corresponding loss is the cross entropy. A numerically stable version of this loss is given by `tf.losses.sparse_softmax_cross_entropy`:"
   ]
  },
  {
   "cell_type": "markdown",
   "metadata": {
    "hidden": true
   },
   "source": [
    "Number of parameters: \n",
    "- Conv: 64 filters. Each filter is size 5x5. Each filter has a bias => parameters of filters = 64(5*5+1)\n",
    "- 1st dense layer: has for input a vector of size dflat. units = 1024, adding the bias we obtain => dflat*1024+1024\n",
    "- 2nd dense layer: 1024*10+10"
   ]
  },
  {
   "cell_type": "code",
   "execution_count": 15,
   "metadata": {
    "hidden": true
   },
   "outputs": [
    {
     "name": "stdout",
     "output_type": "stream",
     "text": [
      "Number of parameters: 12857994\n"
     ]
    }
   ],
   "source": [
    "number_of_parameters = 64*(5*5+1) + dflat*1024+1024 + 1024*10+10\n",
    "print(\"Number of parameters:\",number_of_parameters)"
   ]
  },
  {
   "cell_type": "code",
   "execution_count": 16,
   "metadata": {
    "hidden": true
   },
   "outputs": [],
   "source": [
    "loss = tf.losses.sparse_softmax_cross_entropy(labels=ytf, logits=logits)"
   ]
  },
  {
   "cell_type": "markdown",
   "metadata": {
    "hidden": true
   },
   "source": [
    "Now that we have completed the graph, we can move to the next phase: actually training the NN. Prior to entering the training loop, we need to instantiate an optimizer from `TensorFlow` and ask him to minimize the loss. We will use the ADAM optimizer which is robust and easy to tune."
   ]
  },
  {
   "cell_type": "code",
   "execution_count": 17,
   "metadata": {
    "hidden": true
   },
   "outputs": [],
   "source": [
    "learning_rate = 0.01\n",
    "optimizer = tf.train.AdamOptimizer(learning_rate)\n",
    "training_op = optimizer.minimize(loss)\n",
    "\n",
    "init = tf.global_variables_initializer()"
   ]
  },
  {
   "cell_type": "code",
   "execution_count": 18,
   "metadata": {
    "hidden": true
   },
   "outputs": [],
   "source": [
    "pred = tf.argmax(logits,1)\n",
    "equal = tf.equal(pred,ytf)\n",
    "accuracy = tf.reduce_mean(tf.cast(equal,tf.float32))"
   ]
  },
  {
   "cell_type": "markdown",
   "metadata": {
    "hidden": true
   },
   "source": [
    "An initializer has also been instantiated. Indeed parameters are hidden in instances of our NN layers but they need initialization anyway.\n",
    "\n",
    "We can now begin to iterate on training examples. We will select mini-batches of training examples. Once each training example has been processed as part of the backpropagation algorithm, a training epoch is completed. It is quite common to iterate on epochs, and in each epoch on mini-batches. \n",
    "\n",
    "The following code lines are in line with this habit. There are only two lines to complete to make it work. They correpond to the selection of training examples in each mini-batch. \n"
   ]
  },
  {
   "cell_type": "markdown",
   "metadata": {
    "heading_collapsed": true,
    "hidden": true
   },
   "source": [
    "### Q5\n",
    "* Fulfill correctly the missing parts of these instructions.\n",
    "**Warning** : the execution of the loop takes around 5mn. The gradient descent should achieve approximately a 0.13 loss or below (remember this is stochastic)."
   ]
  },
  {
   "cell_type": "code",
   "execution_count": 19,
   "metadata": {
    "hidden": true
   },
   "outputs": [
    {
     "name": "stdout",
     "output_type": "stream",
     "text": [
      "66%\n",
      " Accuracy test: 0.3113\n",
      "0 Train loss: 2.7464156\n"
     ]
    }
   ],
   "source": [
    "n_epochs = 1\n",
    "batch_size = 300\n",
    "loss_history=[]\n",
    "saver = tf.train.Saver()\n",
    "\n",
    "X = X_train_norm[:1000]\n",
    "X_test = X_test_norm\n",
    "y=y[:1000]\n",
    "N_train = X.shape[0]\n",
    "\n",
    "with tf.Session() as sess:\n",
    "    init.run()\n",
    "    for epoch in range(n_epochs):\n",
    "        n_batches = N_train // batch_size\n",
    "        \n",
    "        for iteration in range(n_batches):\n",
    "            print(\"\\r{}%\".format(100 * iteration // n_batches), end=\"\")\n",
    "            sys.stdout.flush()\n",
    "            X_batch = X[iteration*batch_size :(iteration+1)*batch_size  ] # MISSING CODE\n",
    "            y_batch = y[iteration*batch_size :(iteration+1)*batch_size  ] # MISSING CODE\n",
    "            \n",
    "            #Update parameters by computing gradient of loss\n",
    "            sess.run(training_op, feed_dict={Xtf: X_batch,ytf: y_batch})\n",
    "            loss_history.append(loss.eval(feed_dict={Xtf: X_batch,ytf: y_batch}))\n",
    "        \n",
    "        #Compute loss\n",
    "        loss_train = loss.eval(feed_dict={Xtf: X_batch,ytf: y_batch})\n",
    "        print(\"\\n Accuracy test:\", sess.run(accuracy,feed_dict={Xtf: X_test,ytf: y_test}))\n",
    "        print(\"\\r{}\".format(epoch), \"Train loss:\", loss_train)\n",
    "\n",
    "    saver.save(sess, '/home/cindy/Documents/Scolaire/DAD/ML/TP6_tensorflow/my-model')\n",
    "\n",
    "    \n"
   ]
  },
  {
   "cell_type": "code",
   "execution_count": 37,
   "metadata": {
    "hidden": true
   },
   "outputs": [
    {
     "name": "stdout",
     "output_type": "stream",
     "text": [
      "INFO:tensorflow:Restoring parameters from /home/cindy/Documents/Scolaire/DAD/ML/TP6_tensorflow/my-model\n",
      "\n",
      " Accuracy test: 0.3954\n"
     ]
    }
   ],
   "source": [
    "with tf.Session() as sess:\n",
    "    saver.restore(sess,'/home/cindy/Documents/Scolaire/DAD/ML/TP6_tensorflow/my-model')\n",
    "    print(\"\\n Accuracy test:\", sess.run(accuracy,feed_dict={Xtf: X_test,ytf: y_test}))"
   ]
  },
  {
   "cell_type": "code",
   "execution_count": 28,
   "metadata": {
    "hidden": true
   },
   "outputs": [
    {
     "data": {
      "text/plain": [
       "[<matplotlib.lines.Line2D at 0x7f5a3c0bf470>]"
      ]
     },
     "execution_count": 28,
     "metadata": {},
     "output_type": "execute_result"
    },
    {
     "data": {
      "image/png": "[encoded data removed]",
      "text/plain": [
       "<Figure size 432x288 with 1 Axes>"
      ]
     },
     "metadata": {},
     "output_type": "display_data"
    }
   ],
   "source": [
    "nb_history = len(loss_history)\n",
    "plt.plot(np.arange(nb_history),loss_history)"
   ]
  },
  {
   "cell_type": "markdown",
   "metadata": {
    "heading_collapsed": true,
    "hidden": true
   },
   "source": [
    "### Q6\n",
    "* Document yourselves on means to compute the classifier accuracy using `TensorFlow` functions. \n",
    "* Add the corresponding functions to the graph.\n",
    "* Modify the loop to evaluate the classifier accuracy on the test set. \n",
    "* Comment on the quality of the learning.\n",
    "** Accuracy on test set is very good TOODOOOOO**"
   ]
  },
  {
   "cell_type": "markdown",
   "metadata": {
    "heading_collapsed": true
   },
   "source": [
    "## Q7 Add a second pair of conv/pool layers.\n",
    "* A smaller amount of filters and smaller filters are recommended."
   ]
  },
  {
   "cell_type": "code",
   "execution_count": 66,
   "metadata": {
    "hidden": true
   },
   "outputs": [],
   "source": [
    "# Convolutional Layer #1\n",
    "conv1 = tf.layers.conv2d(\n",
    "      inputs=Xtf,\n",
    "      filters=64,\n",
    "      kernel_size=[5, 5],\n",
    "      padding=\"same\",\n",
    "      activation=tf.nn.relu)"
   ]
  },
  {
   "cell_type": "code",
   "execution_count": 67,
   "metadata": {
    "hidden": true
   },
   "outputs": [],
   "source": [
    "# Pooling Layer #1\n",
    "pool1 = tf.layers.max_pooling2d(inputs=conv1, pool_size=[2, 2], strides=2)\n"
   ]
  },
  {
   "cell_type": "code",
   "execution_count": 68,
   "metadata": {
    "hidden": true
   },
   "outputs": [],
   "source": [
    "# Convolutional Layer #2\n",
    "conv2 = tf.layers.conv2d(\n",
    "      inputs=pool1,\n",
    "      filters=32,\n",
    "      kernel_size=[3,3],\n",
    "      padding=\"same\",\n",
    "      activation=tf.nn.relu)"
   ]
  },
  {
   "cell_type": "code",
   "execution_count": 69,
   "metadata": {
    "hidden": true
   },
   "outputs": [],
   "source": [
    "# Pooling Layer #1\n",
    "pool2 = tf.layers.max_pooling2d(inputs=conv2, pool_size=[2, 2], strides=2)\n",
    "\n",
    "#dflat = 64*14*14# MISSING CODE\n",
    "#pool2_flat = tf.reshape(pool2, [-1, dflat])\n",
    "pool2_flat = tf.layers.Flatten()(pool2)"
   ]
  },
  {
   "cell_type": "code",
   "execution_count": 70,
   "metadata": {
    "hidden": true
   },
   "outputs": [],
   "source": [
    "mlp = tf.layers.dense(inputs=pool2_flat, units=1024, activation=tf.nn.relu)\n"
   ]
  },
  {
   "cell_type": "code",
   "execution_count": 71,
   "metadata": {
    "hidden": true
   },
   "outputs": [],
   "source": [
    "logits = tf.layers.dense(inputs=mlp, units=10)\n",
    "smax = tf.nn.softmax(logits)"
   ]
  },
  {
   "cell_type": "code",
   "execution_count": null,
   "metadata": {
    "hidden": true
   },
   "outputs": [],
   "source": []
  },
  {
   "cell_type": "code",
   "execution_count": 72,
   "metadata": {
    "hidden": true
   },
   "outputs": [],
   "source": [
    "loss = tf.losses.sparse_softmax_cross_entropy(labels=ytf, logits=logits)"
   ]
  },
  {
   "cell_type": "markdown",
   "metadata": {
    "hidden": true
   },
   "source": [
    "Now that we have completed the graph, we can move to the next phase: actually training the NN. Prior to entering the training loop, we need to instantiate an optimizer from `TensorFlow` and ask him to minimize the loss. We will use the ADAM optimizer which is robust and easy to tune."
   ]
  },
  {
   "cell_type": "code",
   "execution_count": 73,
   "metadata": {
    "hidden": true
   },
   "outputs": [],
   "source": [
    "learning_rate = 0.01\n",
    "optimizer = tf.train.AdamOptimizer(learning_rate)\n",
    "training_op = optimizer.minimize(loss)\n",
    "\n",
    "init = tf.global_variables_initializer()"
   ]
  },
  {
   "cell_type": "code",
   "execution_count": 74,
   "metadata": {
    "hidden": true
   },
   "outputs": [],
   "source": [
    "pred = tf.argmax(logits,1)\n",
    "equal = tf.equal(pred,ytf)\n",
    "accuracy = tf.reduce_mean(tf.cast(equal,tf.float32))"
   ]
  },
  {
   "cell_type": "code",
   "execution_count": 80,
   "metadata": {
    "hidden": true
   },
   "outputs": [
    {
     "name": "stdout",
     "output_type": "stream",
     "text": [
      "99%\n",
      " Accuracy test: 0.9797\n",
      "0 Train loss: 0.14407563\n"
     ]
    }
   ],
   "source": [
    "n_epochs = 1\n",
    "batch_size = 300\n",
    "loss_history=[]\n",
    "saver = tf.train.Saver()\n",
    "\n",
    "\n",
    "N_train = X.shape[0]\n",
    "\n",
    "with tf.Session() as sess:\n",
    "    init.run()\n",
    "    for epoch in range(n_epochs):\n",
    "        n_batches = N_train // batch_size\n",
    "        \n",
    "        for iteration in range(n_batches):\n",
    "            print(\"\\r{}%\".format(100 * iteration // n_batches), end=\"\")\n",
    "            sys.stdout.flush()\n",
    "            X_batch = X[iteration*batch_size :(iteration+1)*batch_size  ] # MISSING CODE\n",
    "            y_batch = y[iteration*batch_size :(iteration+1)*batch_size  ] # MISSING CODE\n",
    "            \n",
    "            #Update parameters by computing gradient of loss\n",
    "            sess.run(training_op, feed_dict={Xtf: X_batch,ytf: y_batch})\n",
    "            loss_history.append(loss.eval(feed_dict={Xtf: X_batch,ytf: y_batch}))\n",
    "        \n",
    "        #Compute loss\n",
    "        loss_train = loss.eval(feed_dict={Xtf: X_batch,ytf: y_batch})\n",
    "        print(\"\\n Accuracy test:\", sess.run(accuracy,feed_dict={Xtf: X_test,ytf: y_test}))\n",
    "        print(\"\\r{}\".format(epoch), \"Train loss:\", loss_train)\n",
    "\n",
    "    saver.save(sess, '/home/cindy/Documents/Scolaire/DAD/ML/TP6_tensorflow/my-model_conv2')\n",
    "\n",
    "    \n"
   ]
  },
  {
   "cell_type": "code",
   "execution_count": 81,
   "metadata": {
    "hidden": true,
    "scrolled": true
   },
   "outputs": [
    {
     "data": {
      "text/plain": [
       "[<matplotlib.lines.Line2D at 0x7f56352603c8>]"
      ]
     },
     "execution_count": 81,
     "metadata": {},
     "output_type": "execute_result"
    },
    {
     "data": {
      "image/png": "[encoded data removed]",
      "text/plain": [
       "<Figure size 432x288 with 1 Axes>"
      ]
     },
     "metadata": {},
     "output_type": "display_data"
    }
   ],
   "source": [
    "plt.plot(np.arange(len(loss_history)),loss_history)"
   ]
  },
  {
   "cell_type": "markdown",
   "metadata": {
    "heading_collapsed": true
   },
   "source": [
    "## Q8 Add a second fully connected layer. \n",
    "* A smaller number of units is recommended."
   ]
  },
  {
   "cell_type": "code",
   "execution_count": 82,
   "metadata": {
    "hidden": true
   },
   "outputs": [],
   "source": [
    "# Convolutional Layer #1\n",
    "conv1 = tf.layers.conv2d(\n",
    "      inputs=Xtf,\n",
    "      filters=64,\n",
    "      kernel_size=[5, 5],\n",
    "      padding=\"same\",\n",
    "      activation=tf.nn.relu)"
   ]
  },
  {
   "cell_type": "code",
   "execution_count": 83,
   "metadata": {
    "hidden": true
   },
   "outputs": [],
   "source": [
    "# Pooling Layer #1\n",
    "pool1 = tf.layers.max_pooling2d(inputs=conv1, pool_size=[2, 2], strides=2)\n"
   ]
  },
  {
   "cell_type": "code",
   "execution_count": 84,
   "metadata": {
    "hidden": true
   },
   "outputs": [],
   "source": [
    "# Convolutional Layer #2\n",
    "conv2 = tf.layers.conv2d(\n",
    "      inputs=pool1,\n",
    "      filters=32,\n",
    "      kernel_size=[3,3],\n",
    "      padding=\"same\",\n",
    "      activation=tf.nn.relu)"
   ]
  },
  {
   "cell_type": "code",
   "execution_count": 85,
   "metadata": {
    "hidden": true
   },
   "outputs": [],
   "source": [
    "# Pooling Layer #1\n",
    "pool2 = tf.layers.max_pooling2d(inputs=conv2, pool_size=[2, 2], strides=2)\n",
    "\n",
    "#dflat = 64*14*14# MISSING CODE\n",
    "#pool2_flat = tf.reshape(pool2, [-1, dflat])\n",
    "pool2_flat = tf.layers.Flatten()(pool2)"
   ]
  },
  {
   "cell_type": "code",
   "execution_count": 86,
   "metadata": {
    "hidden": true
   },
   "outputs": [],
   "source": [
    "mlp = tf.layers.dense(inputs=pool2_flat, units=1024, activation=tf.nn.relu)\n"
   ]
  },
  {
   "cell_type": "code",
   "execution_count": 87,
   "metadata": {
    "hidden": true
   },
   "outputs": [],
   "source": [
    "mlp2 = tf.layers.dense(inputs=mlp, units=512, activation=tf.nn.relu)\n"
   ]
  },
  {
   "cell_type": "code",
   "execution_count": 88,
   "metadata": {
    "hidden": true
   },
   "outputs": [],
   "source": [
    "logits = tf.layers.dense(inputs=mlp2, units=10)\n",
    "smax = tf.nn.softmax(logits)"
   ]
  },
  {
   "cell_type": "code",
   "execution_count": null,
   "metadata": {
    "hidden": true
   },
   "outputs": [],
   "source": []
  },
  {
   "cell_type": "code",
   "execution_count": 89,
   "metadata": {
    "hidden": true
   },
   "outputs": [],
   "source": [
    "loss = tf.losses.sparse_softmax_cross_entropy(labels=ytf, logits=logits)"
   ]
  },
  {
   "cell_type": "markdown",
   "metadata": {
    "hidden": true
   },
   "source": [
    "Now that we have completed the graph, we can move to the next phase: actually training the NN. Prior to entering the training loop, we need to instantiate an optimizer from `TensorFlow` and ask him to minimize the loss. We will use the ADAM optimizer which is robust and easy to tune."
   ]
  },
  {
   "cell_type": "code",
   "execution_count": 90,
   "metadata": {
    "hidden": true
   },
   "outputs": [],
   "source": [
    "learning_rate = 0.01\n",
    "optimizer = tf.train.AdamOptimizer(learning_rate)\n",
    "training_op = optimizer.minimize(loss)\n",
    "\n",
    "init = tf.global_variables_initializer()"
   ]
  },
  {
   "cell_type": "code",
   "execution_count": 91,
   "metadata": {
    "hidden": true
   },
   "outputs": [],
   "source": [
    "pred = tf.argmax(logits,1)\n",
    "equal = tf.equal(pred,ytf)\n",
    "accuracy = tf.reduce_mean(tf.cast(equal,tf.float32))"
   ]
  },
  {
   "cell_type": "code",
   "execution_count": null,
   "metadata": {
    "hidden": true
   },
   "outputs": [
    {
     "name": "stdout",
     "output_type": "stream",
     "text": [
      "45%"
     ]
    }
   ],
   "source": [
    "n_epochs = 1\n",
    "batch_size = 300\n",
    "loss_history=[]\n",
    "saver = tf.train.Saver()\n",
    "\n",
    "\n",
    "N_train = X.shape[0]\n",
    "\n",
    "with tf.Session() as sess:\n",
    "    init.run()\n",
    "    for epoch in range(n_epochs):\n",
    "        n_batches = N_train // batch_size\n",
    "        \n",
    "        for iteration in range(n_batches):\n",
    "            print(\"\\r{}%\".format(100 * iteration // n_batches), end=\"\")\n",
    "            sys.stdout.flush()\n",
    "            X_batch = X[iteration*batch_size :(iteration+1)*batch_size  ] # MISSING CODE\n",
    "            y_batch = y[iteration*batch_size :(iteration+1)*batch_size  ] # MISSING CODE\n",
    "            \n",
    "            #Update parameters by computing gradient of loss\n",
    "            sess.run(training_op, feed_dict={Xtf: X_batch,ytf: y_batch})\n",
    "            loss_history.append(loss.eval(feed_dict={Xtf: X_batch,ytf: y_batch}))\n",
    "        \n",
    "        #Compute loss\n",
    "        loss_train = loss.eval(feed_dict={Xtf: X_batch,ytf: y_batch})\n",
    "        print(\"\\n Accuracy test:\", sess.run(accuracy,feed_dict={Xtf: X_test,ytf: y_test}))\n",
    "        print(\"\\r{}\".format(epoch), \"Train loss:\", loss_train)\n",
    "\n",
    "    saver.save(sess, '/home/cindy/Documents/Scolaire/DAD/ML/TP6_tensorflow/my-model_conv2')\n",
    "\n",
    "    \n"
   ]
  },
  {
   "cell_type": "code",
   "execution_count": 81,
   "metadata": {
    "hidden": true,
    "scrolled": true
   },
   "outputs": [
    {
     "data": {
      "text/plain": [
       "[<matplotlib.lines.Line2D at 0x7f56352603c8>]"
      ]
     },
     "execution_count": 81,
     "metadata": {},
     "output_type": "execute_result"
    },
    {
     "data": {
      "image/png": "[encoded data removed]",
      "text/plain": [
       "<Figure size 432x288 with 1 Axes>"
      ]
     },
     "metadata": {},
     "output_type": "display_data"
    }
   ],
   "source": [
    "plt.plot(np.arange(len(loss_history)),loss_history)"
   ]
  },
  {
   "cell_type": "code",
   "execution_count": null,
   "metadata": {
    "hidden": true
   },
   "outputs": [],
   "source": []
  },
  {
   "cell_type": "code",
   "execution_count": null,
   "metadata": {
    "hidden": true
   },
   "outputs": [],
   "source": []
  },
  {
   "cell_type": "code",
   "execution_count": null,
   "metadata": {
    "hidden": true
   },
   "outputs": [],
   "source": []
  },
  {
   "cell_type": "code",
   "execution_count": null,
   "metadata": {
    "hidden": true
   },
   "outputs": [],
   "source": []
  },
  {
   "cell_type": "markdown",
   "metadata": {
    "heading_collapsed": true
   },
   "source": [
    "## Q9 try to tweak the other hyperparameters. \n",
    " These latter include:\n",
    "* the learning rate,\n",
    "* the mini batch size,\n",
    "* the regularization strength (if regularization is activated),\n",
    "* number of filters,\n",
    "* filter sizes,\n",
    "* activiation functions,\n",
    "* strides,\n",
    "* padding types,\n",
    "* ...\n"
   ]
  },
  {
   "cell_type": "markdown",
   "metadata": {},
   "source": [
    "## Q10\n",
    "* Compare the obtained accuracy to that of a regularized Softmax regression from `sklearn`."
   ]
  },
  {
   "cell_type": "code",
   "execution_count": 34,
   "metadata": {},
   "outputs": [],
   "source": [
    "dicto = {1:\"eo\",2:3}"
   ]
  },
  {
   "cell_type": "code",
   "execution_count": 41,
   "metadata": {},
   "outputs": [],
   "source": [
    "a = dicto.__getitem__"
   ]
  },
  {
   "cell_type": "code",
   "execution_count": 42,
   "metadata": {},
   "outputs": [
    {
     "name": "stdout",
     "output_type": "stream",
     "text": [
      "<built-in method __getitem__ of dict object at 0x7f378c0e6828>\n"
     ]
    }
   ],
   "source": [
    "print(a)"
   ]
  },
  {
   "cell_type": "code",
   "execution_count": 43,
   "metadata": {},
   "outputs": [
    {
     "ename": "AttributeError",
     "evalue": "'dict' object has no attribute 'layer_size'",
     "output_type": "error",
     "traceback": [
      "\u001b[0;31m---------------------------------------------------------------------------\u001b[0m",
      "\u001b[0;31mAttributeError\u001b[0m                            Traceback (most recent call last)",
      "\u001b[0;32m<ipython-input-43-c41b09f3e55f>\u001b[0m in \u001b[0;36m<module>\u001b[0;34m()\u001b[0m\n\u001b[0;32m----> 1\u001b[0;31m \u001b[0mdicto\u001b[0m\u001b[0;34m.\u001b[0m\u001b[0mlayer_size\u001b[0m \u001b[0;34m=\u001b[0m \u001b[0;36m10\u001b[0m\u001b[0;34m\u001b[0m\u001b[0m\n\u001b[0m",
      "\u001b[0;31mAttributeError\u001b[0m: 'dict' object has no attribute 'layer_size'"
     ]
    }
   ],
   "source": [
    "dicto.layer_size = 10"
   ]
  },
  {
   "cell_type": "code",
   "execution_count": 49,
   "metadata": {},
   "outputs": [
    {
     "ename": "TypeError",
     "evalue": "dict expected at most 1 arguments, got 3",
     "output_type": "error",
     "traceback": [
      "\u001b[0;31m---------------------------------------------------------------------------\u001b[0m",
      "\u001b[0;31mTypeError\u001b[0m                                 Traceback (most recent call last)",
      "\u001b[0;32m<ipython-input-49-9a24bb5e5734>\u001b[0m in \u001b[0;36m<module>\u001b[0;34m()\u001b[0m\n\u001b[0;32m----> 1\u001b[0;31m \u001b[0;32mclass\u001b[0m \u001b[0mAttrDict\u001b[0m\u001b[0;34m(\u001b[0m\u001b[0mdict\u001b[0m\u001b[0;34m)\u001b[0m\u001b[0;34m:\u001b[0m\u001b[0;34m\u001b[0m\u001b[0m\n\u001b[0m\u001b[1;32m      2\u001b[0m     \u001b[0m__getattr__\u001b[0m \u001b[0;34m=\u001b[0m \u001b[0mdict\u001b[0m\u001b[0;34m.\u001b[0m\u001b[0m__getitem__\u001b[0m\u001b[0;34m\u001b[0m\u001b[0m\n",
      "\u001b[0;31mTypeError\u001b[0m: dict expected at most 1 arguments, got 3"
     ]
    }
   ],
   "source": [
    "class AttrDict(dict):\n",
    "    __getattr__ = dict.__getitem__\n"
   ]
  },
  {
   "cell_type": "code",
   "execution_count": null,
   "metadata": {},
   "outputs": [],
   "source": []
  }
 ],
 "metadata": {
  "kernelspec": {
   "display_name": "Python 3",
   "language": "python",
   "name": "python3"
  },
  "language_info": {
   "codemirror_mode": {
    "name": "ipython",
    "version": 3
   },
   "file_extension": ".py",
   "mimetype": "text/x-python",
   "name": "python",
   "nbconvert_exporter": "python",
   "pygments_lexer": "ipython3",
   "version": "3.6.5"
  },
  "toc": {
   "base_numbering": 1,
   "nav_menu": {},
   "number_sections": true,
   "sideBar": true,
   "skip_h1_title": false,
   "title_cell": "Table of Contents",
   "title_sidebar": "Contents",
   "toc_cell": false,
   "toc_position": {},
   "toc_section_display": true,
   "toc_window_display": true
  }
 },
 "nbformat": 4,
 "nbformat_minor": 2
}
